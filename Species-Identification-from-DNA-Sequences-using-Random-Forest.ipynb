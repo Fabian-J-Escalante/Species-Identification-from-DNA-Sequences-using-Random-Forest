{
  "nbformat": 4,
  "nbformat_minor": 0,
  "metadata": {
    "colab": {
      "provenance": [],
      "toc_visible": true
    },
    "kernelspec": {
      "name": "python3",
      "display_name": "Python 3"
    },
    "language_info": {
      "name": "python"
    }
  },
  "cells": [
    {
      "cell_type": "code",
      "source": [
        "from google.colab import auth\n",
        "import gspread\n",
        "from gspread_dataframe import set_with_dataframe\n",
        "from google.auth import default\n",
        "import pandas as pd\n",
        "import numpy as np\n",
        "from sklearn import datasets, model_selection, metrics, ensemble, tree, preprocessing\n",
        "from sklearn.feature_extraction.text import CountVectorizer\n",
        "from sklearn.model_selection import train_test_split\n",
        "from sklearn.naive_bayes import MultinomialNB\n",
        "from sklearn.metrics import accuracy_score, confusion_matrix, precision_score, recall_score, ConfusionMatrixDisplay, classification_report, cohen_kappa_score, f1_score\n",
        "from sklearn.multioutput import MultiOutputClassifier\n",
        "from sklearn.ensemble import RandomForestClassifier\n",
        "from sklearn.preprocessing import LabelEncoder"
      ],
      "metadata": {
        "id": "laL6BNzeEEho"
      },
      "execution_count": null,
      "outputs": []
    },
    {
      "cell_type": "code",
      "source": [
        "#Credenciales\n",
        "auth.authenticate_user()\n",
        "creds, _ = default()\n",
        "gc = gspread.authorize(creds)"
      ],
      "metadata": {
        "id": "pbI3MkbIry4G"
      },
      "execution_count": null,
      "outputs": []
    },
    {
      "cell_type": "code",
      "source": [
        "#TEST\n",
        "drosophilaTest = gc.open('Drosophila_test').sheet1\n",
        "rows_test = drosophilaTest.get_all_values()\n",
        "df_test = pd.DataFrame(rows_test)\n",
        "df_test.columns = df_test.iloc[0]\n",
        "df_test = df_test.iloc[1:]\n",
        "\n",
        "#TRAIN\n",
        "drosophilaTrain = gc.open('Drosophila_train').sheet1\n",
        "rows_train = drosophilaTrain.get_all_values()\n",
        "df_train = pd.DataFrame(rows_train)\n",
        "df_train.columns = df_train.iloc[0]\n",
        "df_train = df_train.iloc[1:]"
      ],
      "metadata": {
        "id": "qEFkCFOTNpov"
      },
      "execution_count": null,
      "outputs": []
    },
    {
      "cell_type": "code",
      "source": [
        "#DATOS\n",
        "Y_train = df_train[\"target\"]\n",
        "X_train = df_train.loc[:, 'S1':'S663']\n",
        "\n",
        "df_train.columns"
      ],
      "metadata": {
        "colab": {
          "base_uri": "https://localhost:8080/"
        },
        "id": "gdhmxXIhYyjy",
        "outputId": "196c406a-8a4e-4011-985b-0478231a0911"
      },
      "execution_count": null,
      "outputs": [
        {
          "output_type": "execute_result",
          "data": {
            "text/plain": [
              "Index(['ID', 'target', 'S1', 'S2', 'S3', 'S4', 'S5', 'S6', 'S7', 'S8',\n",
              "       ...\n",
              "       'S654', 'S655', 'S656', 'S657', 'S658', 'S659', 'S660', 'S661', 'S662',\n",
              "       'S663'],\n",
              "      dtype='object', name=0, length=665)"
            ]
          },
          "metadata": {},
          "execution_count": 4
        }
      ]
    },
    {
      "cell_type": "code",
      "source": [
        "#Procesamiento de datos\n",
        "df = df_train.loc[:, 'target':'S663']\n",
        "df_X = df_train.loc[:, 'S1':'S663']\n",
        "\n",
        "one_hot_encoded_data = pd.get_dummies(df, columns = df_X.columns)"
      ],
      "metadata": {
        "id": "6_3piedQP8H4"
      },
      "execution_count": null,
      "outputs": []
    },
    {
      "cell_type": "code",
      "source": [
        "#Limpiamos las filas adicionales\n",
        "#Se va a usar cinco veces\n",
        "one_hot_encoded_data = one_hot_encoded_data.iloc[:-1, :]\n",
        "one_hot_encoded_data = one_hot_encoded_data.iloc[:-1, :]\n",
        "one_hot_encoded_data = one_hot_encoded_data.iloc[:-1, :]\n",
        "one_hot_encoded_data = one_hot_encoded_data.iloc[:-1, :]\n",
        "one_hot_encoded_data = one_hot_encoded_data.iloc[:-1, :]"
      ],
      "metadata": {
        "id": "vMQM2_VaEiLA"
      },
      "execution_count": null,
      "outputs": []
    },
    {
      "cell_type": "code",
      "source": [
        "#Pasamos los nombres por etiquetas numericas\n",
        "le = preprocessing.LabelEncoder()\n",
        "le.fit(one_hot_encoded_data.target)\n",
        "\n",
        "list(le.classes_)\n",
        "one_hot_encoded_data['target'] = le.transform(one_hot_encoded_data.target)\n",
        "\n",
        "\n",
        "le.inverse_transform(one_hot_encoded_data['target'])\n",
        "target = one_hot_encoded_data['target']\n",
        "one_hot_encoded_data_x = one_hot_encoded_data.loc[:, 'S1_A':'S663_T']\n",
        "x_train, x_test, y_train, y_test = model_selection.train_test_split(one_hot_encoded_data_x, target, test_size = 0.3, random_state =0)\n",
        "\n",
        "#Tamaño de los archivos\n",
        "print(\"Tamaño del archivo de test:\", x_test.shape)\n",
        "print(\"Tamaño del archivo para train:\", x_train.shape)"
      ],
      "metadata": {
        "colab": {
          "base_uri": "https://localhost:8080/"
        },
        "id": "_3qLqz_2qd_A",
        "outputId": "c8b13dcc-b09b-41fb-cce6-a85aea875152"
      },
      "execution_count": null,
      "outputs": [
        {
          "output_type": "stream",
          "name": "stdout",
          "text": [
            "Tamaño del archivo de test: (150, 3315)\n",
            "Tamaño del archivo para train: (349, 3315)\n"
          ]
        }
      ]
    },
    {
      "cell_type": "code",
      "source": [
        "#ENTRENAMIENTO USANDO RANDOM FOREST\n",
        "\n",
        "clasificador = ensemble.RandomForestClassifier()\n",
        "modelo = clasificador.fit(x_train,y_train)\n",
        "print(\"Sociedad arácnida presenta una identificación de especies a partir de secuencias de ADN usando el algoritmo de machine learning Random Forest:\",modelo)\n",
        "\n",
        "\n",
        "print(\"\\n\\nValores de x y su puntuación \\n\", x_test)\n",
        "modelo.score(x_test,y_test)"
      ],
      "metadata": {
        "colab": {
          "base_uri": "https://localhost:8080/"
        },
        "id": "-D-oL16dTj_o",
        "outputId": "00dc6193-95e6-4d27-8a5f-555da54d248d"
      },
      "execution_count": null,
      "outputs": [
        {
          "output_type": "stream",
          "name": "stdout",
          "text": [
            "Sociedad arácnida presenta una identificación de especies a partir de secuencias de ADN usando el algoritmo de machine learning Random Forest: RandomForestClassifier()\n",
            "\n",
            "\n",
            "Valores de x y su puntuación \n",
            "      S1_A  S1_C  S1_G  S1_N  S1_T  S2_A  S2_C  S2_G  S2_N  S2_T  ...  S662_A  \\\n",
            "91      0     0     0     1     0     0     0     0     1     0  ...       0   \n",
            "255     1     0     0     0     0     0     0     0     0     1  ...       0   \n",
            "284     0     0     0     1     0     0     0     0     1     0  ...       0   \n",
            "445     0     0     0     1     0     0     0     0     1     0  ...       0   \n",
            "475     0     0     0     1     0     0     0     0     1     0  ...       0   \n",
            "..    ...   ...   ...   ...   ...   ...   ...   ...   ...   ...  ...     ...   \n",
            "5       1     0     0     0     0     0     0     0     0     1  ...       0   \n",
            "319     0     0     0     1     0     0     0     0     1     0  ...       0   \n",
            "331     0     0     0     1     0     0     0     0     1     0  ...       0   \n",
            "246     0     0     0     1     0     0     0     0     1     0  ...       0   \n",
            "6       1     0     0     0     0     0     0     0     0     1  ...       0   \n",
            "\n",
            "     S662_C  S662_G  S662_N  S662_T  S663_A  S663_C  S663_G  S663_N  S663_T  \n",
            "91        0       0       1       0       0       0       0       1       0  \n",
            "255       0       0       0       1       0       0       0       0       1  \n",
            "284       0       0       1       0       0       0       0       1       0  \n",
            "445       0       0       1       0       0       0       0       1       0  \n",
            "475       0       0       1       0       0       0       0       1       0  \n",
            "..      ...     ...     ...     ...     ...     ...     ...     ...     ...  \n",
            "5         0       0       0       1       0       0       0       0       1  \n",
            "319       0       0       1       0       0       0       0       1       0  \n",
            "331       0       0       1       0       0       0       0       1       0  \n",
            "246       0       0       1       0       0       0       0       1       0  \n",
            "6         0       0       0       1       0       0       0       0       1  \n",
            "\n",
            "[150 rows x 3315 columns]\n"
          ]
        },
        {
          "output_type": "execute_result",
          "data": {
            "text/plain": [
              "0.9733333333333334"
            ]
          },
          "metadata": {},
          "execution_count": 8
        }
      ]
    },
    {
      "cell_type": "code",
      "source": [
        "x_train, x_test, y_train, y_test = model_selection.train_test_split(one_hot_encoded_data_x, target, test_size=0.3, random_state=43)\n",
        "y_pred = modelo.predict(x_test)\n",
        "report = metrics.classification_report(y_test,y_pred)\n",
        "print(classification_report(y_test,y_pred))\n",
        "\n",
        "print(\"Precisión del modelo: {:.2f}%\".format(accuracy_score(y_test, y_pred) * 100))\n",
        "print(\"Kappa score: {:.2f}%\".format(cohen_kappa_score(y_test,y_pred)))"
      ],
      "metadata": {
        "colab": {
          "base_uri": "https://localhost:8080/"
        },
        "id": "wonAwm3P0s7g",
        "outputId": "f721a860-0141-4eee-8af5-13d83999aa24"
      },
      "execution_count": null,
      "outputs": [
        {
          "output_type": "stream",
          "name": "stdout",
          "text": [
            "              precision    recall  f1-score   support\n",
            "\n",
            "           0       1.00      1.00      1.00         2\n",
            "           1       1.00      1.00      1.00         5\n",
            "           2       1.00      1.00      1.00         1\n",
            "           3       1.00      1.00      1.00         2\n",
            "           4       1.00      1.00      1.00         1\n",
            "           5       1.00      1.00      1.00         4\n",
            "           6       1.00      1.00      1.00        10\n",
            "           8       1.00      1.00      1.00         1\n",
            "           9       1.00      1.00      1.00         4\n",
            "          10       1.00      1.00      1.00        12\n",
            "          11       1.00      1.00      1.00        10\n",
            "          12       1.00      1.00      1.00         1\n",
            "          13       1.00      1.00      1.00         5\n",
            "          14       1.00      1.00      1.00        16\n",
            "          15       0.93      1.00      0.96        25\n",
            "          16       1.00      1.00      1.00         6\n",
            "          17       1.00      0.95      0.98        43\n",
            "          18       1.00      1.00      1.00         2\n",
            "\n",
            "    accuracy                           0.99       150\n",
            "   macro avg       1.00      1.00      1.00       150\n",
            "weighted avg       0.99      0.99      0.99       150\n",
            "\n",
            "Precisión del modelo: 98.67%\n",
            "Kappa score: 0.98%\n"
          ]
        }
      ]
    },
    {
      "cell_type": "code",
      "source": [
        "le.inverse_transform(y_pred)"
      ],
      "metadata": {
        "id": "lBRJXg_wiS_c",
        "colab": {
          "base_uri": "https://localhost:8080/"
        },
        "outputId": "752ded25-1d32-4df3-a59a-4a2b7ef43296"
      },
      "execution_count": null,
      "outputs": [
        {
          "output_type": "execute_result",
          "data": {
            "text/plain": [
              "array(['Drosophila_arizonae', 'Drosophila_mojavensis',\n",
              "       'Drosophila_simulans', 'Drosophila_melanogaster',\n",
              "       'Drosophila_innubila', 'Drosophila_recens', 'Drosophila_recens',\n",
              "       'Drosophila_recens', 'Drosophila_pachea', 'Drosophila_innubila',\n",
              "       'Drosophila_subquinaria', 'Drosophila_subquinaria',\n",
              "       'Drosophila_nigrospiracula', 'Drosophila_montana',\n",
              "       'Drosophila_innubila', 'Drosophila_subquinaria',\n",
              "       'Drosophila_recens', 'Drosophila_subquinaria',\n",
              "       'Drosophila_mojavensis', 'Drosophila_subquinaria',\n",
              "       'Drosophila_montana', 'Drosophila_innubila',\n",
              "       'Drosophila_subquinaria', 'Drosophila_subquinaria',\n",
              "       'Drosophila_virilis', 'Drosophila_recens',\n",
              "       'Drosophila_nigrospiracula', 'Drosophila_arizonae',\n",
              "       'Drosophila_montana', 'Drosophila_recens', 'Drosophila_recens',\n",
              "       'Drosophila_mojavensis', 'Drosophila_innubila',\n",
              "       'Drosophila_subquinaria', 'Drosophila_mettleri',\n",
              "       'Drosophila_pachea', 'Drosophila_simulans',\n",
              "       'Drosophila_subquinaria', 'Drosophila_subquinaria',\n",
              "       'Drosophila_virilis', 'Drosophila_recens',\n",
              "       'Drosophila_subquinaria', 'Drosophila_recens', 'Drosophila_recens',\n",
              "       'Drosophila_innubila', 'Drosophila_pachea', 'Drosophila_simulans',\n",
              "       'Drosophila_subquinaria', 'Drosophila_montana',\n",
              "       'Drosophila_recens', 'Drosophila_montana', 'Drosophila_mettleri',\n",
              "       'Drosophila_falleni', 'Drosophila_arizonae',\n",
              "       'Drosophila_subquinaria', 'Drosophila_subquinaria',\n",
              "       'Drosophila_subquinaria', 'Drosophila_mojavensis',\n",
              "       'Drosophila_subquinaria', 'Drosophila_simulans',\n",
              "       'Drosophila_barutani', 'Drosophila_subquinaria',\n",
              "       'Drosophila_recens', 'Drosophila_recens', 'Drosophila_subquinaria',\n",
              "       'Drosophila_subquinaria', 'Drosophila_recens',\n",
              "       'Drosophila_mojavensis', 'Drosophila_pachea',\n",
              "       'Drosophila_mojavensis', 'Drosophila_pachea',\n",
              "       'Drosophila_subquinaria', 'Drosophila_pachea',\n",
              "       'Drosophila_mettleri', 'Drosophila_navojoa', 'Drosophila_pachea',\n",
              "       'Drosophila_pachea', 'Drosophila_recens', 'Drosophila_recens',\n",
              "       'Drosophila_subquinaria', 'Drosophila_subquinaria',\n",
              "       'Drosophila_pachea', 'Drosophila_subquinaria', 'Drosophila_recens',\n",
              "       'Drosophila_recens', 'Drosophila_recens', 'Drosophila_mojavensis',\n",
              "       'Drosophila_montana', 'Drosophila_pachea', 'Drosophila_recens',\n",
              "       'Drosophila_montana', 'Drosophila_daruma',\n",
              "       'Drosophila_nigrospiracula', 'Drosophila_subquinaria',\n",
              "       'Drosophila_subquinaria', 'Drosophila_innubila',\n",
              "       'Drosophila_subquinaria', 'Drosophila_innubila',\n",
              "       'Drosophila_subquinaria', 'Drosophila_nigrospiracula',\n",
              "       'Drosophila_arizonae', 'Drosophila_pachea',\n",
              "       'Drosophila_subquinaria', 'Drosophila_pachea', 'Drosophila_angor',\n",
              "       'Drosophila_subquinaria', 'Drosophila_pachea',\n",
              "       'Drosophila_simulans', 'Drosophila_mojavensis',\n",
              "       'Drosophila_mojavensis', 'Drosophila_mojavensis',\n",
              "       'Drosophila_arizonae', 'Drosophila_recens',\n",
              "       'Drosophila_subquinaria', 'Drosophila_subquinaria',\n",
              "       'Drosophila_recens', 'Drosophila_subquinaria',\n",
              "       'Drosophila_montana', 'Drosophila_beppui', 'Drosophila_pachea',\n",
              "       'Drosophila_montana', 'Drosophila_subquinaria',\n",
              "       'Drosophila_subquinaria', 'Drosophila_simulans',\n",
              "       'Drosophila_montana', 'Drosophila_recens', 'Drosophila_pachea',\n",
              "       'Drosophila_falleni', 'Drosophila_mojavensis',\n",
              "       'Drosophila_subquinaria', 'Drosophila_innubila',\n",
              "       'Drosophila_recens', 'Drosophila_recens', 'Drosophila_falleni',\n",
              "       'Drosophila_mojavensis', 'Drosophila_innubila',\n",
              "       'Drosophila_subquinaria', 'Drosophila_subquinaria',\n",
              "       'Drosophila_subquinaria', 'Drosophila_mettleri',\n",
              "       'Drosophila_beppui', 'Drosophila_angor', 'Drosophila_pachea',\n",
              "       'Drosophila_recens', 'Drosophila_subquinaria', 'Drosophila_recens',\n",
              "       'Drosophila_nigrospiracula', 'Drosophila_falleni',\n",
              "       'Drosophila_subquinaria', 'Drosophila_subquinaria'], dtype=object)"
            ]
          },
          "metadata": {},
          "execution_count": 10
        }
      ]
    },
    {
      "cell_type": "code",
      "source": [
        "le.inverse_transform(y_test)"
      ],
      "metadata": {
        "colab": {
          "base_uri": "https://localhost:8080/"
        },
        "id": "kpdmwSzP4de0",
        "outputId": "69ed71c7-a105-420d-f739-00e148512241"
      },
      "execution_count": null,
      "outputs": [
        {
          "output_type": "execute_result",
          "data": {
            "text/plain": [
              "array(['Drosophila_arizonae', 'Drosophila_mojavensis',\n",
              "       'Drosophila_simulans', 'Drosophila_melanogaster',\n",
              "       'Drosophila_innubila', 'Drosophila_recens', 'Drosophila_recens',\n",
              "       'Drosophila_recens', 'Drosophila_pachea', 'Drosophila_innubila',\n",
              "       'Drosophila_subquinaria', 'Drosophila_subquinaria',\n",
              "       'Drosophila_nigrospiracula', 'Drosophila_montana',\n",
              "       'Drosophila_innubila', 'Drosophila_subquinaria',\n",
              "       'Drosophila_recens', 'Drosophila_subquinaria',\n",
              "       'Drosophila_mojavensis', 'Drosophila_subquinaria',\n",
              "       'Drosophila_montana', 'Drosophila_innubila',\n",
              "       'Drosophila_subquinaria', 'Drosophila_subquinaria',\n",
              "       'Drosophila_virilis', 'Drosophila_recens',\n",
              "       'Drosophila_nigrospiracula', 'Drosophila_arizonae',\n",
              "       'Drosophila_montana', 'Drosophila_recens', 'Drosophila_recens',\n",
              "       'Drosophila_mojavensis', 'Drosophila_innubila',\n",
              "       'Drosophila_subquinaria', 'Drosophila_mettleri',\n",
              "       'Drosophila_pachea', 'Drosophila_simulans',\n",
              "       'Drosophila_subquinaria', 'Drosophila_subquinaria',\n",
              "       'Drosophila_virilis', 'Drosophila_recens',\n",
              "       'Drosophila_subquinaria', 'Drosophila_subquinaria',\n",
              "       'Drosophila_recens', 'Drosophila_innubila', 'Drosophila_pachea',\n",
              "       'Drosophila_simulans', 'Drosophila_subquinaria',\n",
              "       'Drosophila_montana', 'Drosophila_recens', 'Drosophila_montana',\n",
              "       'Drosophila_mettleri', 'Drosophila_falleni', 'Drosophila_arizonae',\n",
              "       'Drosophila_subquinaria', 'Drosophila_subquinaria',\n",
              "       'Drosophila_subquinaria', 'Drosophila_mojavensis',\n",
              "       'Drosophila_subquinaria', 'Drosophila_simulans',\n",
              "       'Drosophila_barutani', 'Drosophila_subquinaria',\n",
              "       'Drosophila_recens', 'Drosophila_recens', 'Drosophila_subquinaria',\n",
              "       'Drosophila_subquinaria', 'Drosophila_recens',\n",
              "       'Drosophila_mojavensis', 'Drosophila_pachea',\n",
              "       'Drosophila_mojavensis', 'Drosophila_pachea',\n",
              "       'Drosophila_subquinaria', 'Drosophila_pachea',\n",
              "       'Drosophila_mettleri', 'Drosophila_navojoa', 'Drosophila_pachea',\n",
              "       'Drosophila_pachea', 'Drosophila_recens', 'Drosophila_recens',\n",
              "       'Drosophila_subquinaria', 'Drosophila_subquinaria',\n",
              "       'Drosophila_pachea', 'Drosophila_subquinaria', 'Drosophila_recens',\n",
              "       'Drosophila_subquinaria', 'Drosophila_recens',\n",
              "       'Drosophila_mojavensis', 'Drosophila_montana', 'Drosophila_pachea',\n",
              "       'Drosophila_recens', 'Drosophila_montana', 'Drosophila_daruma',\n",
              "       'Drosophila_nigrospiracula', 'Drosophila_subquinaria',\n",
              "       'Drosophila_subquinaria', 'Drosophila_innubila',\n",
              "       'Drosophila_subquinaria', 'Drosophila_innubila',\n",
              "       'Drosophila_subquinaria', 'Drosophila_nigrospiracula',\n",
              "       'Drosophila_arizonae', 'Drosophila_pachea',\n",
              "       'Drosophila_subquinaria', 'Drosophila_pachea', 'Drosophila_angor',\n",
              "       'Drosophila_subquinaria', 'Drosophila_pachea',\n",
              "       'Drosophila_simulans', 'Drosophila_mojavensis',\n",
              "       'Drosophila_mojavensis', 'Drosophila_mojavensis',\n",
              "       'Drosophila_arizonae', 'Drosophila_recens',\n",
              "       'Drosophila_subquinaria', 'Drosophila_subquinaria',\n",
              "       'Drosophila_recens', 'Drosophila_subquinaria',\n",
              "       'Drosophila_montana', 'Drosophila_beppui', 'Drosophila_pachea',\n",
              "       'Drosophila_montana', 'Drosophila_subquinaria',\n",
              "       'Drosophila_subquinaria', 'Drosophila_simulans',\n",
              "       'Drosophila_montana', 'Drosophila_recens', 'Drosophila_pachea',\n",
              "       'Drosophila_falleni', 'Drosophila_mojavensis',\n",
              "       'Drosophila_subquinaria', 'Drosophila_innubila',\n",
              "       'Drosophila_recens', 'Drosophila_recens', 'Drosophila_falleni',\n",
              "       'Drosophila_mojavensis', 'Drosophila_innubila',\n",
              "       'Drosophila_subquinaria', 'Drosophila_subquinaria',\n",
              "       'Drosophila_subquinaria', 'Drosophila_mettleri',\n",
              "       'Drosophila_beppui', 'Drosophila_angor', 'Drosophila_pachea',\n",
              "       'Drosophila_recens', 'Drosophila_subquinaria', 'Drosophila_recens',\n",
              "       'Drosophila_nigrospiracula', 'Drosophila_falleni',\n",
              "       'Drosophila_subquinaria', 'Drosophila_subquinaria'], dtype=object)"
            ]
          },
          "metadata": {},
          "execution_count": 11
        }
      ]
    },
    {
      "cell_type": "code",
      "source": [
        "pred_df = pd.DataFrame()\n",
        "pred_df['Esp'] = le.inverse_transform(y_pred)\n",
        "pred_df['Obs'] = le.inverse_transform(y_test)\n",
        "print(pred_df)"
      ],
      "metadata": {
        "colab": {
          "base_uri": "https://localhost:8080/"
        },
        "id": "DvM-QWcBscql",
        "outputId": "b4f20dc1-f6ab-4cab-a279-60c24bda60e1"
      },
      "execution_count": null,
      "outputs": [
        {
          "output_type": "stream",
          "name": "stdout",
          "text": [
            "                           Esp                        Obs\n",
            "0          Drosophila_arizonae        Drosophila_arizonae\n",
            "1        Drosophila_mojavensis      Drosophila_mojavensis\n",
            "2          Drosophila_simulans        Drosophila_simulans\n",
            "3      Drosophila_melanogaster    Drosophila_melanogaster\n",
            "4          Drosophila_innubila        Drosophila_innubila\n",
            "..                         ...                        ...\n",
            "145          Drosophila_recens          Drosophila_recens\n",
            "146  Drosophila_nigrospiracula  Drosophila_nigrospiracula\n",
            "147         Drosophila_falleni         Drosophila_falleni\n",
            "148     Drosophila_subquinaria     Drosophila_subquinaria\n",
            "149     Drosophila_subquinaria     Drosophila_subquinaria\n",
            "\n",
            "[150 rows x 2 columns]\n"
          ]
        }
      ]
    },
    {
      "cell_type": "code",
      "source": [
        "#One-hot para las pruebas\n",
        "df_X_test = df_test.loc[:, 'S1':'S663']\n",
        "one_hot_encoded_test = pd.get_dummies(df_X_test, columns = df_X_test.columns)\n",
        "\n",
        "one_hot_encoded_test = one_hot_encoded_test.iloc[:-1, :]\n",
        "one_hot_encoded_test = one_hot_encoded_test.iloc[:-1, :]\n",
        "one_hot_encoded_test = one_hot_encoded_test.iloc[:-1, :]\n",
        "one_hot_encoded_test = one_hot_encoded_test.iloc[:-1, :]\n",
        "one_hot_encoded_test = one_hot_encoded_test.iloc[:-1, :]\n",
        "\n",
        "one_hot_encoded_test = one_hot_encoded_test[x_train.columns]\n",
        "\n",
        "pred = modelo.predict(one_hot_encoded_test)"
      ],
      "metadata": {
        "id": "7Srj8PVw-jRZ"
      },
      "execution_count": null,
      "outputs": []
    },
    {
      "cell_type": "code",
      "source": [
        "le.inverse_transform(pred)"
      ],
      "metadata": {
        "colab": {
          "base_uri": "https://localhost:8080/"
        },
        "id": "cifP9SuNgYsX",
        "outputId": "d74f6420-180e-4e77-c6d7-f60cb4645489"
      },
      "execution_count": null,
      "outputs": [
        {
          "output_type": "execute_result",
          "data": {
            "text/plain": [
              "array(['Drosophila_mojavensis', 'Drosophila_angor', 'Drosophila_arizonae',\n",
              "       'Drosophila_arizonae', 'Drosophila_arizonae',\n",
              "       'Drosophila_barutani', 'Drosophila_falleni', 'Drosophila_falleni',\n",
              "       'Drosophila_falleni', 'Drosophila_innubila', 'Drosophila_innubila',\n",
              "       'Drosophila_innubila', 'Drosophila_innubila',\n",
              "       'Drosophila_melanogaster', 'Drosophila_melanogaster',\n",
              "       'Drosophila_mettleri', 'Drosophila_mettleri',\n",
              "       'Drosophila_mettleri', 'Drosophila_mettleri',\n",
              "       'Drosophila_mettleri', 'Drosophila_mojavensis',\n",
              "       'Drosophila_mojavensis', 'Drosophila_mojavensis',\n",
              "       'Drosophila_mojavensis', 'Drosophila_mojavensis',\n",
              "       'Drosophila_mojavensis', 'Drosophila_mojavensis',\n",
              "       'Drosophila_mojavensis', 'Drosophila_mojavensis',\n",
              "       'Drosophila_montana', 'Drosophila_montana', 'Drosophila_montana',\n",
              "       'Drosophila_montana', 'Drosophila_montana', 'Drosophila_montana',\n",
              "       'Drosophila_montana', 'Drosophila_montana',\n",
              "       'Drosophila_nigrospiracula', 'Drosophila_nigrospiracula',\n",
              "       'Drosophila_pachea', 'Drosophila_pachea', 'Drosophila_pachea',\n",
              "       'Drosophila_pachea', 'Drosophila_pachea', 'Drosophila_pachea',\n",
              "       'Drosophila_pachea', 'Drosophila_pachea', 'Drosophila_pachea',\n",
              "       'Drosophila_pachea', 'Drosophila_pachea', 'Drosophila_pachea',\n",
              "       'Drosophila_pachea', 'Drosophila_pachea', 'Drosophila_pachea',\n",
              "       'Drosophila_pachea', 'Drosophila_recens', 'Drosophila_recens',\n",
              "       'Drosophila_recens', 'Drosophila_recens', 'Drosophila_recens',\n",
              "       'Drosophila_recens', 'Drosophila_recens', 'Drosophila_recens',\n",
              "       'Drosophila_recens', 'Drosophila_recens', 'Drosophila_recens',\n",
              "       'Drosophila_recens', 'Drosophila_recens', 'Drosophila_recens',\n",
              "       'Drosophila_recens', 'Drosophila_recens', 'Drosophila_recens',\n",
              "       'Drosophila_recens', 'Drosophila_recens', 'Drosophila_recens',\n",
              "       'Drosophila_recens', 'Drosophila_recens', 'Drosophila_recens',\n",
              "       'Drosophila_recens', 'Drosophila_recens', 'Drosophila_recens',\n",
              "       'Drosophila_recens', 'Drosophila_simulans', 'Drosophila_simulans',\n",
              "       'Drosophila_simulans', 'Drosophila_simulans',\n",
              "       'Drosophila_simulans', 'Drosophila_subquinaria',\n",
              "       'Drosophila_subquinaria', 'Drosophila_subquinaria',\n",
              "       'Drosophila_subquinaria', 'Drosophila_subquinaria',\n",
              "       'Drosophila_recens', 'Drosophila_subquinaria',\n",
              "       'Drosophila_subquinaria', 'Drosophila_subquinaria',\n",
              "       'Drosophila_subquinaria', 'Drosophila_subquinaria',\n",
              "       'Drosophila_subquinaria', 'Drosophila_subquinaria',\n",
              "       'Drosophila_subquinaria', 'Drosophila_subquinaria',\n",
              "       'Drosophila_subquinaria', 'Drosophila_subquinaria',\n",
              "       'Drosophila_subquinaria', 'Drosophila_subquinaria',\n",
              "       'Drosophila_subquinaria', 'Drosophila_subquinaria',\n",
              "       'Drosophila_subquinaria', 'Drosophila_subquinaria',\n",
              "       'Drosophila_subquinaria', 'Drosophila_subquinaria',\n",
              "       'Drosophila_subquinaria', 'Drosophila_subquinaria',\n",
              "       'Drosophila_virilis', 'Drosophila_virilis'], dtype=object)"
            ]
          },
          "metadata": {},
          "execution_count": 14
        }
      ]
    },
    {
      "cell_type": "code",
      "source": [
        "#RESULTADO\n",
        "df_test = df_test.iloc[:-1, :]\n",
        "df_test = df_test.iloc[:-1, :]\n",
        "df_test = df_test.iloc[:-1, :]\n",
        "df_test = df_test.iloc[:-1, :]\n",
        "df_test = df_test.iloc[:-1, :]\n",
        "\n",
        "df_test['Organismo'] = le.inverse_transform(pred)\n",
        "df_test['Etiquetas'] = pred\n",
        "print(df_test[['ID','Organismo','Etiquetas']])"
      ],
      "metadata": {
        "id": "eolUn3WtkfIi",
        "colab": {
          "base_uri": "https://localhost:8080/"
        },
        "outputId": "3a13cce1-7930-4939-f0a2-a92a59259043"
      },
      "execution_count": null,
      "outputs": [
        {
          "output_type": "stream",
          "name": "stdout",
          "text": [
            "0                    ID               Organismo  Etiquetas\n",
            "1    DQ471543_110189412   Drosophila_mojavensis         10\n",
            "2    DQ471554_110189434        Drosophila_angor          0\n",
            "3     DQ383671_87475141     Drosophila_arizonae          1\n",
            "4     DQ383677_87475153     Drosophila_arizonae          1\n",
            "5     DQ383678_87475155     Drosophila_arizonae          1\n",
            "..                  ...                     ...        ...\n",
            "112  DQ851680_114187161  Drosophila_subquinaria         17\n",
            "113  DQ851686_114187173  Drosophila_subquinaria         17\n",
            "114  DQ851689_114187179  Drosophila_subquinaria         17\n",
            "115   DQ426800_90018979      Drosophila_virilis         18\n",
            "116   DQ426803_90018985      Drosophila_virilis         18\n",
            "\n",
            "[116 rows x 3 columns]\n"
          ]
        }
      ]
    },
    {
      "cell_type": "code",
      "source": [
        "#EXPORTACIÓN DE LOS DATOS A GOOGLE SHEETS\n",
        "titulo = 'Identificación de especies a partir de secuencias de ADN mediante Machine Learning'\n",
        "gc.create(titulo)\n",
        "sheet = gc.open(titulo).sheet1\n",
        "set_with_dataframe(sheet, df_test[['ID','Organismo','Etiquetas']])"
      ],
      "metadata": {
        "id": "os7eM_qQpgjI"
      },
      "execution_count": null,
      "outputs": []
    }
  ]
}